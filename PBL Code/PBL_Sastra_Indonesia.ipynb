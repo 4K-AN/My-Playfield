{
  "cells": [
    {
      "cell_type": "markdown",
      "metadata": {},
      "source": [
        "# 📚 Project Based Learning (PBL)\n",
        "## Integrasi Big Data, Blockchain, AI, dan Machine Learning dalam Kajian Sastra Indonesia\n",
        "\n",
        "Notebook ini mencakup:\n",
        "- Ekstraksi teks dari gambar menggunakan OCR\n",
        "- Normalisasi ejaan lama ke ejaan baru\n",
        "- Klasifikasi genre sastra menggunakan Machine Learning\n",
        "- Simulasi Blockchain untuk distribusi karya sastra\n",
        "- Visualisasi data sastra Indonesia\n"
      ]
    },
    {
      "cell_type": "code",
      "execution_count": 10,
      "metadata": {},
      "outputs": [
        {
          "name": "stdout",
          "output_type": "stream",
          "text": [
            "Requirement already satisfied: pytesseract in c:\\users\\admin\\appdata\\local\\programs\\python\\python312\\lib\\site-packages (0.3.13)\n",
            "Requirement already satisfied: pillow in c:\\users\\admin\\appdata\\local\\programs\\python\\python312\\lib\\site-packages (10.4.0)\n",
            "Requirement already satisfied: matplotlib in c:\\users\\admin\\appdata\\local\\programs\\python\\python312\\lib\\site-packages (3.9.2)\n",
            "Requirement already satisfied: scikit-learn in c:\\users\\admin\\appdata\\local\\programs\\python\\python312\\lib\\site-packages (1.6.1)\n",
            "Requirement already satisfied: packaging>=21.3 in c:\\users\\admin\\appdata\\roaming\\python\\python312\\site-packages (from pytesseract) (24.1)\n",
            "Requirement already satisfied: contourpy>=1.0.1 in c:\\users\\admin\\appdata\\local\\programs\\python\\python312\\lib\\site-packages (from matplotlib) (1.3.0)\n",
            "Requirement already satisfied: cycler>=0.10 in c:\\users\\admin\\appdata\\local\\programs\\python\\python312\\lib\\site-packages (from matplotlib) (0.12.1)\n",
            "Requirement already satisfied: fonttools>=4.22.0 in c:\\users\\admin\\appdata\\local\\programs\\python\\python312\\lib\\site-packages (from matplotlib) (4.53.1)\n",
            "Requirement already satisfied: kiwisolver>=1.3.1 in c:\\users\\admin\\appdata\\local\\programs\\python\\python312\\lib\\site-packages (from matplotlib) (1.4.7)\n",
            "Requirement already satisfied: numpy>=1.23 in c:\\users\\admin\\appdata\\local\\programs\\python\\python312\\lib\\site-packages (from matplotlib) (1.26.4)\n",
            "Requirement already satisfied: pyparsing>=2.3.1 in c:\\users\\admin\\appdata\\local\\programs\\python\\python312\\lib\\site-packages (from matplotlib) (3.1.4)\n",
            "Requirement already satisfied: python-dateutil>=2.7 in c:\\users\\admin\\appdata\\local\\programs\\python\\python312\\lib\\site-packages (from matplotlib) (2.9.0.post0)\n",
            "Requirement already satisfied: scipy>=1.6.0 in c:\\users\\admin\\appdata\\local\\programs\\python\\python312\\lib\\site-packages (from scikit-learn) (1.14.1)\n",
            "Requirement already satisfied: joblib>=1.2.0 in c:\\users\\admin\\appdata\\local\\programs\\python\\python312\\lib\\site-packages (from scikit-learn) (1.4.2)\n",
            "Requirement already satisfied: threadpoolctl>=3.1.0 in c:\\users\\admin\\appdata\\local\\programs\\python\\python312\\lib\\site-packages (from scikit-learn) (3.5.0)\n",
            "Requirement already satisfied: six>=1.5 in c:\\users\\admin\\appdata\\local\\programs\\python\\python312\\lib\\site-packages (from python-dateutil>=2.7->matplotlib) (1.16.0)\n"
          ]
        },
        {
          "name": "stderr",
          "output_type": "stream",
          "text": [
            "\n",
            "[notice] A new release of pip is available: 25.0 -> 25.1.1\n",
            "[notice] To update, run: python.exe -m pip install --upgrade pip\n"
          ]
        },
        {
          "name": "stdout",
          "output_type": "stream",
          "text": [
            "Requirement already satisfied: pytesseract in c:\\users\\admin\\appdata\\local\\programs\\python\\python312\\lib\\site-packages (0.3.13)\n",
            "Requirement already satisfied: pillow in c:\\users\\admin\\appdata\\local\\programs\\python\\python312\\lib\\site-packages (10.4.0)\n",
            "Requirement already satisfied: matplotlib in c:\\users\\admin\\appdata\\local\\programs\\python\\python312\\lib\\site-packages (3.9.2)\n",
            "Requirement already satisfied: scikit-learn in c:\\users\\admin\\appdata\\local\\programs\\python\\python312\\lib\\site-packages (1.6.1)\n",
            "Requirement already satisfied: packaging>=21.3 in c:\\users\\admin\\appdata\\roaming\\python\\python312\\site-packages (from pytesseract) (24.1)\n",
            "Requirement already satisfied: contourpy>=1.0.1 in c:\\users\\admin\\appdata\\local\\programs\\python\\python312\\lib\\site-packages (from matplotlib) (1.3.0)\n",
            "Requirement already satisfied: cycler>=0.10 in c:\\users\\admin\\appdata\\local\\programs\\python\\python312\\lib\\site-packages (from matplotlib) (0.12.1)\n",
            "Requirement already satisfied: fonttools>=4.22.0 in c:\\users\\admin\\appdata\\local\\programs\\python\\python312\\lib\\site-packages (from matplotlib) (4.53.1)\n",
            "Requirement already satisfied: kiwisolver>=1.3.1 in c:\\users\\admin\\appdata\\local\\programs\\python\\python312\\lib\\site-packages (from matplotlib) (1.4.7)\n",
            "Requirement already satisfied: numpy>=1.23 in c:\\users\\admin\\appdata\\local\\programs\\python\\python312\\lib\\site-packages (from matplotlib) (1.26.4)\n",
            "Requirement already satisfied: pyparsing>=2.3.1 in c:\\users\\admin\\appdata\\local\\programs\\python\\python312\\lib\\site-packages (from matplotlib) (3.1.4)\n",
            "Requirement already satisfied: python-dateutil>=2.7 in c:\\users\\admin\\appdata\\local\\programs\\python\\python312\\lib\\site-packages (from matplotlib) (2.9.0.post0)\n",
            "Requirement already satisfied: scipy>=1.6.0 in c:\\users\\admin\\appdata\\local\\programs\\python\\python312\\lib\\site-packages (from scikit-learn) (1.14.1)\n",
            "Requirement already satisfied: joblib>=1.2.0 in c:\\users\\admin\\appdata\\local\\programs\\python\\python312\\lib\\site-packages (from scikit-learn) (1.4.2)\n",
            "Requirement already satisfied: threadpoolctl>=3.1.0 in c:\\users\\admin\\appdata\\local\\programs\\python\\python312\\lib\\site-packages (from scikit-learn) (3.5.0)\n",
            "Requirement already satisfied: six>=1.5 in c:\\users\\admin\\appdata\\local\\programs\\python\\python312\\lib\\site-packages (from python-dateutil>=2.7->matplotlib) (1.16.0)\n"
          ]
        },
        {
          "name": "stderr",
          "output_type": "stream",
          "text": [
            "\n",
            "[notice] A new release of pip is available: 25.0 -> 25.1.1\n",
            "[notice] To update, run: python.exe -m pip install --upgrade pip\n"
          ]
        }
      ],
      "source": [
        "# ✅ Instalasi pustaka yang dibutuhkan\n",
        "!pip install pytesseract pillow matplotlib scikit-learn\n",
        "!pip install pytesseract pillow matplotlib scikit-learn"
      ]
    },
    {
      "cell_type": "code",
      "execution_count": 12,
      "metadata": {},
      "outputs": [
        {
          "name": "stdout",
          "output_type": "stream",
          "text": [
            "Puisi Aku\n",
            "\n",
            "Kalau sampai waktuku\n",
            "“Ku mau tak seorang kan merayu\n",
            "Tidak juga kau\n",
            "\n",
            "Tak perlu sedu sedan itu\n",
            "\n",
            "Aku ini binatang jalang\n",
            "\n",
            "Dari kumpulannya terbuang\n",
            "Biar peluru menembus kulitku\n",
            "Aku tetap meradang menerjang\n",
            "Luka dan bisa kubawa berlari\n",
            "Berlari\n",
            "\n",
            "Hingga hilang pedih peri\n",
            "\n",
            "Dan aku akan lebih tidak peduli\n",
            "\n",
            "Aku mau hidup seribu tahun lagi\n",
            "\n"
          ]
        }
      ],
      "source": [
        "import os\n",
        "import pytesseract\n",
        "from PIL import Image\n",
        "\n",
        "# Path ke Tesseract\n",
        "pytesseract.pytesseract.tesseract_cmd = r\"D:\\SOFTWARE\\Tesseract\\tesseract.exe\"\n",
        "\n",
        "# Set TESSDATA_PREFIX ke folder tempat ind.traineddata disimpan\n",
        "os.environ['TESSDATA_PREFIX'] = r\"D:\\SOFTWARE\\Tesseract\\tessdata\"\n",
        "\n",
        "# OCR\n",
        "img = Image.open(\"halaman_buku.jpg\")\n",
        "teks = pytesseract.image_to_string(img, lang='ind')\n",
        "print(teks)\n"
      ]
    },
    {
      "cell_type": "code",
      "execution_count": 14,
      "metadata": {},
      "outputs": [
        {
          "name": "stdout",
          "output_type": "stream",
          "text": [
            "Puisi Aku\n",
            "\n",
            "Kalau sampai waktuku\n",
            "“Ku mau tak seorang kan merayu\n",
            "Tidak juga kau\n",
            "\n",
            "Tak perlu sedu sedan itu\n",
            "\n",
            "Aku ini binatang jalang\n",
            "\n",
            "Dari kumpulannya terbuang\n",
            "Biar peluru menembus kulitku\n",
            "Aku tetap meradang menerjang\n",
            "Luka dan bisa kubawa berlari\n",
            "Berlari\n",
            "\n",
            "Hingga hilang pedih peri\n",
            "\n",
            "Dan aku akan lebih tidak peduli\n",
            "\n",
            "Aku mau hidup seribu tahun lagi\n",
            "\n"
          ]
        }
      ],
      "source": [
        "# 🔤 Normalisasi ejaan lama ke ejaan baru\n",
        "mapping = {\n",
        "    'dj': 'j',\n",
        "    'tj': 'c',\n",
        "    'oe': 'u',\n",
        "    'nj': 'ny',\n",
        "    'sj': 'sy',\n",
        "    'ch': 'kh'\n",
        "}\n",
        "\n",
        "for lama, baru in mapping.items():\n",
        "    teks = teks.replace(lama, baru)\n",
        "\n",
        "print(teks)\n"
      ]
    },
    {
      "cell_type": "code",
      "execution_count": 18,
      "metadata": {},
      "outputs": [
        {
          "name": "stdout",
          "output_type": "stream",
          "text": [
            "Prediksi genre: Drama\n"
          ]
        }
      ],
      "source": [
        "# 1. Tambah dataset agar model belajar lebih baik\n",
        "corpus_teks = [\n",
        "    # Puisi\n",
        "    \"Aku adalah api yang membakar jiwamu...\",\n",
        "    \"Langit menangis bersama rinduku...\",\n",
        "    \"Sajak sunyi di balik malam...\",\n",
        "    \"Bayangmu menari di antara bintang...\",\n",
        "    # Drama\n",
        "    \"Dialog antara dua insan di balik tirai waktu...\",\n",
        "    \"Mengapa kau tinggalkan aku, tanya si wanita tua...\",\n",
        "    \"Kita tak bisa kembali, kata si anak sambil menatap nanar...\",\n",
        "    \"Kau berdusta, teriaknya sambil memukul meja...\",\n",
        "    # Prosa\n",
        "    \"Ia berjalan menuju pasar sambil membawa secarik kertas...\",\n",
        "    \"Pagi itu hujan turun perlahan, membasahi jalanan yang lengang...\",\n",
        "    \"Ia membuka buku harian dengan tangan gemetar...\",\n",
        "    \"Sebuah surat lama ditemukan di bawah lantai kayu...\"\n",
        "]\n",
        "\n",
        "label_genre = [\n",
        "    'Puisi', 'Puisi', 'Puisi', 'Puisi',\n",
        "    'Drama', 'Drama', 'Drama', 'Drama',\n",
        "    'Prosa', 'Prosa', 'Prosa', 'Prosa'\n",
        "]\n",
        "\n",
        "# 2. Preprocessing lebih baik (opsional, misal lowercase)\n",
        "from sklearn.pipeline import Pipeline\n",
        "from sklearn.preprocessing import FunctionTransformer\n",
        "import numpy as np\n",
        "\n",
        "# Fungsi lowercase\n",
        "def to_lowercase(docs):\n",
        "    return np.char.lower(docs)\n",
        "\n",
        "# 3. Buat pipeline model\n",
        "model = Pipeline([\n",
        "    ('lowercase', FunctionTransformer(to_lowercase)),\n",
        "    ('tfidf', TfidfVectorizer(ngram_range=(1, 2))),  # unigram + bigram\n",
        "    ('clf', MultinomialNB())\n",
        "])\n",
        "\n",
        "# 4. Fit model\n",
        "model.fit(corpus_teks, label_genre)\n",
        "\n",
        "# 5. Prediksi teks OCR\n",
        "hasil_prediksi = model.predict([teks])\n",
        "print(\"Prediksi genre:\", hasil_prediksi[0])\n"
      ]
    },
    {
      "cell_type": "code",
      "execution_count": 16,
      "metadata": {},
      "outputs": [
        {
          "name": "stdout",
          "output_type": "stream",
          "text": [
            "{'index': 0, 'timestamp': 1749287185.771323, 'data': 'Genesis Block', 'prev_hash': '0', 'hash': '1c38540d0becfe95d7d5e6c34a62cace7debea609abe07a755feddd947be07b3'}\n",
            "{'index': 1, 'timestamp': 1749287185.771323, 'data': 'Jual buku A, harga 100K, penulis X, royalti 10%', 'prev_hash': '1c38540d0becfe95d7d5e6c34a62cace7debea609abe07a755feddd947be07b3', 'hash': 'b921d0eecbc28aac250d300e355e72019f901b8bb1c9493de3fcefbc299b26f5'}\n"
          ]
        }
      ],
      "source": [
        "# 🔗 Simulasi Blockchain untuk distribusi karya sastra\n",
        "import hashlib, time\n",
        "\n",
        "class Block:\n",
        "    def __init__(self, index, data, prev_hash):\n",
        "        self.index = index\n",
        "        self.timestamp = time.time()\n",
        "        self.data = data\n",
        "        self.prev_hash = prev_hash\n",
        "        self.hash = self.calculate_hash()\n",
        "\n",
        "    def calculate_hash(self):\n",
        "        return hashlib.sha256(f\"{self.index}{self.timestamp}{self.data}{self.prev_hash}\".encode()).hexdigest()\n",
        "\n",
        "class Blockchain:\n",
        "    def __init__(self):\n",
        "        self.chain = [Block(0, \"Genesis Block\", \"0\")]\n",
        "\n",
        "    def add_block(self, data):\n",
        "        prev_hash = self.chain[-1].hash\n",
        "        new_block = Block(len(self.chain), data, prev_hash)\n",
        "        self.chain.append(new_block)\n",
        "\n",
        "bc = Blockchain()\n",
        "bc.add_block(\"Jual buku A, harga 100K, penulis X, royalti 10%\")\n",
        "for block in bc.chain:\n",
        "    print(vars(block))"
      ]
    },
    {
      "cell_type": "code",
      "execution_count": 17,
      "metadata": {},
      "outputs": [
        {
          "data": {
            "image/png": "[encoded data removed]",
            "text/plain": [
              "<Figure size 640x480 with 1 Axes>"
            ]
          },
          "metadata": {},
          "output_type": "display_data"
        }
      ],
      "source": [
        "# 📊 Visualisasi data karya sastra\n",
        "import matplotlib.pyplot as plt\n",
        "\n",
        "genre = ['Prosa', 'Puisi', 'Drama']\n",
        "jumlah = [120, 80, 30]\n",
        "\n",
        "plt.bar(genre, jumlah, color=['skyblue', 'salmon', 'gold'])\n",
        "plt.title('Jumlah Karya per Genre Sastra')\n",
        "plt.ylabel('Jumlah Karya')\n",
        "plt.show()"
      ]
    }
  ],
  "metadata": {
    "kernelspec": {
      "display_name": "Python 3",
      "language": "python",
      "name": "python3"
    },
    "language_info": {
      "codemirror_mode": {
        "name": "ipython",
        "version": 3
      },
      "file_extension": ".py",
      "mimetype": "text/x-python",
      "name": "python",
      "nbconvert_exporter": "python",
      "pygments_lexer": "ipython3",
      "version": "3.12.4"
    }
  },
  "nbformat": 4,
  "nbformat_minor": 2
}
