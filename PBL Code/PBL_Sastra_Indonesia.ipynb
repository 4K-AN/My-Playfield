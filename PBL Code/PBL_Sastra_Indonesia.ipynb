{
  "cells": [
    {
      "cell_type": "markdown",
      "metadata": {},
      "source": [
        "# 📚 Project Based Learning (PBL)\n",
        "## Integrasi Big Data, Blockchain, AI, dan Machine Learning dalam Kajian Sastra Indonesia\n",
        "\n",
        "Notebook ini mencakup:\n",
        "- Ekstraksi teks dari gambar menggunakan OCR\n",
        "- Normalisasi ejaan lama ke ejaan baru\n",
        "- Klasifikasi genre sastra menggunakan Machine Learning\n",
        "- Simulasi Blockchain untuk distribusi karya sastra\n",
        "- Visualisasi data sastra Indonesia\n"
      ]
    },
    {
      "cell_type": "code",
      "execution_count": 1,
      "metadata": {},
      "outputs": [
        {
          "name": "stdout",
          "output_type": "stream",
          "text": [
            "Collecting pytesseract\n",
            "  Using cached pytesseract-0.3.13-py3-none-any.whl.metadata (11 kB)\n",
            "Requirement already satisfied: pillow in c:\\users\\admin\\appdata\\local\\programs\\python\\python312\\lib\\site-packages (10.4.0)\n",
            "Requirement already satisfied: matplotlib in c:\\users\\admin\\appdata\\local\\programs\\python\\python312\\lib\\site-packages (3.9.2)\n",
            "Requirement already satisfied: scikit-learn in c:\\users\\admin\\appdata\\local\\programs\\python\\python312\\lib\\site-packages (1.6.1)\n",
            "Requirement already satisfied: packaging>=21.3 in c:\\users\\admin\\appdata\\roaming\\python\\python312\\site-packages (from pytesseract) (24.1)\n",
            "Requirement already satisfied: contourpy>=1.0.1 in c:\\users\\admin\\appdata\\local\\programs\\python\\python312\\lib\\site-packages (from matplotlib) (1.3.0)\n",
            "Requirement already satisfied: cycler>=0.10 in c:\\users\\admin\\appdata\\local\\programs\\python\\python312\\lib\\site-packages (from matplotlib) (0.12.1)\n",
            "Requirement already satisfied: fonttools>=4.22.0 in c:\\users\\admin\\appdata\\local\\programs\\python\\python312\\lib\\site-packages (from matplotlib) (4.53.1)\n",
            "Requirement already satisfied: kiwisolver>=1.3.1 in c:\\users\\admin\\appdata\\local\\programs\\python\\python312\\lib\\site-packages (from matplotlib) (1.4.7)\n",
            "Requirement already satisfied: numpy>=1.23 in c:\\users\\admin\\appdata\\local\\programs\\python\\python312\\lib\\site-packages (from matplotlib) (1.26.4)\n",
            "Requirement already satisfied: pyparsing>=2.3.1 in c:\\users\\admin\\appdata\\local\\programs\\python\\python312\\lib\\site-packages (from matplotlib) (3.1.4)\n",
            "Requirement already satisfied: python-dateutil>=2.7 in c:\\users\\admin\\appdata\\local\\programs\\python\\python312\\lib\\site-packages (from matplotlib) (2.9.0.post0)\n",
            "Requirement already satisfied: scipy>=1.6.0 in c:\\users\\admin\\appdata\\local\\programs\\python\\python312\\lib\\site-packages (from scikit-learn) (1.14.1)\n",
            "Requirement already satisfied: joblib>=1.2.0 in c:\\users\\admin\\appdata\\local\\programs\\python\\python312\\lib\\site-packages (from scikit-learn) (1.4.2)\n",
            "Requirement already satisfied: threadpoolctl>=3.1.0 in c:\\users\\admin\\appdata\\local\\programs\\python\\python312\\lib\\site-packages (from scikit-learn) (3.5.0)\n",
            "Requirement already satisfied: six>=1.5 in c:\\users\\admin\\appdata\\local\\programs\\python\\python312\\lib\\site-packages (from python-dateutil>=2.7->matplotlib) (1.16.0)\n",
            "Using cached pytesseract-0.3.13-py3-none-any.whl (14 kB)\n",
            "Installing collected packages: pytesseract\n",
            "Successfully installed pytesseract-0.3.13\n"
          ]
        },
        {
          "name": "stderr",
          "output_type": "stream",
          "text": [
            "\n",
            "[notice] A new release of pip is available: 25.0 -> 25.1.1\n",
            "[notice] To update, run: C:\\Users\\admin\\AppData\\Local\\Programs\\Python\\Python312\\python.exe -m pip install --upgrade pip\n",
            "'apt-get' is not recognized as an internal or external command,\n",
            "operable program or batch file.\n"
          ]
        }
      ],
      "source": [
        "# ✅ Instalasi pustaka yang dibutuhkan\n",
        "!pip install pytesseract pillow matplotlib scikit-learn\n",
        "!apt-get update && apt-get install -y tesseract-ocr tesseract-ocr-ind"
      ]
    },
    {
      "cell_type": "code",
      "execution_count": 2,
      "metadata": {},
      "outputs": [
        {
          "ename": "FileNotFoundError",
          "evalue": "[Errno 2] No such file or directory: 'halaman_buku.jpg'",
          "output_type": "error",
          "traceback": [
            "\u001b[1;31m---------------------------------------------------------------------------\u001b[0m",
            "\u001b[1;31mFileNotFoundError\u001b[0m                         Traceback (most recent call last)",
            "Cell \u001b[1;32mIn[2], line 6\u001b[0m\n\u001b[0;32m      3\u001b[0m \u001b[38;5;28;01mimport\u001b[39;00m\u001b[38;5;250m \u001b[39m\u001b[38;5;21;01mpytesseract\u001b[39;00m\n\u001b[0;32m      5\u001b[0m \u001b[38;5;66;03m# Ganti dengan path file gambar kamu\u001b[39;00m\n\u001b[1;32m----> 6\u001b[0m image \u001b[38;5;241m=\u001b[39m \u001b[43mImage\u001b[49m\u001b[38;5;241;43m.\u001b[39;49m\u001b[43mopen\u001b[49m\u001b[43m(\u001b[49m\u001b[38;5;124;43m'\u001b[39;49m\u001b[38;5;124;43mhalaman_buku.jpg\u001b[39;49m\u001b[38;5;124;43m'\u001b[39;49m\u001b[43m)\u001b[49m\n\u001b[0;32m      7\u001b[0m teks \u001b[38;5;241m=\u001b[39m pytesseract\u001b[38;5;241m.\u001b[39mimage_to_string(image, lang\u001b[38;5;241m=\u001b[39m\u001b[38;5;124m'\u001b[39m\u001b[38;5;124mind\u001b[39m\u001b[38;5;124m'\u001b[39m)\n\u001b[0;32m      8\u001b[0m \u001b[38;5;28mprint\u001b[39m(teks)\n",
            "File \u001b[1;32mc:\\Users\\admin\\.codegeex\\mamba\\envs\\codegeex-agent\\Lib\\site-packages\\PIL\\Image.py:3505\u001b[0m, in \u001b[0;36mopen\u001b[1;34m(fp, mode, formats)\u001b[0m\n\u001b[0;32m   3502\u001b[0m     filename \u001b[38;5;241m=\u001b[39m os\u001b[38;5;241m.\u001b[39mfspath(fp)\n\u001b[0;32m   3504\u001b[0m \u001b[38;5;28;01mif\u001b[39;00m filename:\n\u001b[1;32m-> 3505\u001b[0m     fp \u001b[38;5;241m=\u001b[39m \u001b[43mbuiltins\u001b[49m\u001b[38;5;241;43m.\u001b[39;49m\u001b[43mopen\u001b[49m\u001b[43m(\u001b[49m\u001b[43mfilename\u001b[49m\u001b[43m,\u001b[49m\u001b[43m \u001b[49m\u001b[38;5;124;43m\"\u001b[39;49m\u001b[38;5;124;43mrb\u001b[39;49m\u001b[38;5;124;43m\"\u001b[39;49m\u001b[43m)\u001b[49m\n\u001b[0;32m   3506\u001b[0m     exclusive_fp \u001b[38;5;241m=\u001b[39m \u001b[38;5;28;01mTrue\u001b[39;00m\n\u001b[0;32m   3507\u001b[0m \u001b[38;5;28;01melse\u001b[39;00m:\n",
            "\u001b[1;31mFileNotFoundError\u001b[0m: [Errno 2] No such file or directory: 'halaman_buku.jpg'"
          ]
        }
      ],
      "source": [
        "# 🔎 Ekstraksi teks dari gambar menggunakan OCR\n",
        "from PIL import Image\n",
        "import pytesseract\n",
        "\n",
        "# Ganti dengan path file gambar kamu\n",
        "image = Image.open('halaman_buku.jpg')\n",
        "teks = pytesseract.image_to_string(image, lang='ind')\n",
        "print(teks)"
      ]
    },
    {
      "cell_type": "code",
      "execution_count": null,
      "metadata": {},
      "outputs": [],
      "source": [
        "# 🔤 Normalisasi ejaan lama\n",
        "mapping = {'dj': 'j', 'tj': 'c', 'oe': 'u', 'nj': 'ny', 'sj': 'sy', 'ch': 'kh'}\n",
        "for lama, baru in mapping.items():\n",
        "    teks = teks.replace(lama, baru)\n",
        "print(teks)"
      ]
    },
    {
      "cell_type": "code",
      "execution_count": null,
      "metadata": {},
      "outputs": [],
      "source": [
        "# 🤖 Klasifikasi genre menggunakan Machine Learning\n",
        "from sklearn.feature_extraction.text import TfidfVectorizer\n",
        "from sklearn.naive_bayes import MultinomialNB\n",
        "from sklearn.pipeline import make_pipeline\n",
        "\n",
        "corpus_teks = [\n",
        "    \"Aku adalah api yang membakar jiwamu...\",\n",
        "    \"Dialog antara dua insan di balik tirai waktu...\",\n",
        "    \"Ia berjalan menuju pasar sambil membawa secarik kertas...\"\n",
        "]\n",
        "label_genre = ['Puisi', 'Drama', 'Prosa']\n",
        "\n",
        "model = make_pipeline(TfidfVectorizer(), MultinomialNB())\n",
        "model.fit(corpus_teks, label_genre)\n",
        "\n",
        "# Coba prediksi\n",
        "hasil_prediksi = model.predict([teks])\n",
        "print(\"Prediksi genre:\", hasil_prediksi[0])"
      ]
    },
    {
      "cell_type": "code",
      "execution_count": null,
      "metadata": {},
      "outputs": [],
      "source": [
        "# 🔗 Simulasi Blockchain untuk distribusi karya sastra\n",
        "import hashlib, time\n",
        "\n",
        "class Block:\n",
        "    def __init__(self, index, data, prev_hash):\n",
        "        self.index = index\n",
        "        self.timestamp = time.time()\n",
        "        self.data = data\n",
        "        self.prev_hash = prev_hash\n",
        "        self.hash = self.calculate_hash()\n",
        "\n",
        "    def calculate_hash(self):\n",
        "        return hashlib.sha256(f\"{self.index}{self.timestamp}{self.data}{self.prev_hash}\".encode()).hexdigest()\n",
        "\n",
        "class Blockchain:\n",
        "    def __init__(self):\n",
        "        self.chain = [Block(0, \"Genesis Block\", \"0\")]\n",
        "\n",
        "    def add_block(self, data):\n",
        "        prev_hash = self.chain[-1].hash\n",
        "        new_block = Block(len(self.chain), data, prev_hash)\n",
        "        self.chain.append(new_block)\n",
        "\n",
        "bc = Blockchain()\n",
        "bc.add_block(\"Jual buku A, harga 100K, penulis X, royalti 10%\")\n",
        "for block in bc.chain:\n",
        "    print(vars(block))"
      ]
    },
    {
      "cell_type": "code",
      "execution_count": null,
      "metadata": {},
      "outputs": [],
      "source": [
        "# 📊 Visualisasi data karya sastra\n",
        "import matplotlib.pyplot as plt\n",
        "\n",
        "genre = ['Prosa', 'Puisi', 'Drama']\n",
        "jumlah = [120, 80, 30]\n",
        "\n",
        "plt.bar(genre, jumlah, color=['skyblue', 'salmon', 'gold'])\n",
        "plt.title('Jumlah Karya per Genre Sastra')\n",
        "plt.ylabel('Jumlah Karya')\n",
        "plt.show()"
      ]
    }
  ],
  "metadata": {
    "kernelspec": {
      "display_name": "codegeex-agent",
      "language": "python",
      "name": "python3"
    },
    "language_info": {
      "codemirror_mode": {
        "name": "ipython",
        "version": 3
      },
      "file_extension": ".py",
      "mimetype": "text/x-python",
      "name": "python",
      "nbconvert_exporter": "python",
      "pygments_lexer": "ipython3",
      "version": "3.11.0"
    }
  },
  "nbformat": 4,
  "nbformat_minor": 2
}
