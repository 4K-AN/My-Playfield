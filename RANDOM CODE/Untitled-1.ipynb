{
 "cells": [
  {
   "cell_type": "code",
   "execution_count": 6,
   "id": "3fba7bba",
   "metadata": {},
   "outputs": [
    {
     "name": "stdout",
     "output_type": "stream",
     "text": [
      "Collecting PillowNote: you may need to restart the kernel to use updated packages.\n",
      "\n",
      "  Downloading pillow-11.2.1-cp311-cp311-win_amd64.whl.metadata (9.1 kB)\n",
      "Downloading pillow-11.2.1-cp311-cp311-win_amd64.whl (2.7 MB)\n",
      "   ---------------------------------------- 0.0/2.7 MB ? eta -:--:--\n",
      "   ---------------------------------------- 0.0/2.7 MB ? eta -:--:--\n",
      "   ---------------------------------------- 0.0/2.7 MB ? eta -:--:--\n",
      "   ---------------------------------------- 0.0/2.7 MB ? eta -:--:--\n",
      "   ---------------------------------------- 0.0/2.7 MB ? eta -:--:--\n",
      "   ---------------------------------------- 0.0/2.7 MB ? eta -:--:--\n",
      "   ---------------------------------------- 0.0/2.7 MB ? eta -:--:--\n",
      "   ---------------------------------------- 0.0/2.7 MB ? eta -:--:--\n",
      "   --- ------------------------------------ 0.3/2.7 MB ? eta -:--:--\n",
      "   --- ------------------------------------ 0.3/2.7 MB ? eta -:--:--\n",
      "   --- ------------------------------------ 0.3/2.7 MB ? eta -:--:--\n",
      "   --- ------------------------------------ 0.3/2.7 MB ? eta -:--:--\n",
      "   --- ------------------------------------ 0.3/2.7 MB ? eta -:--:--\n",
      "   --- ------------------------------------ 0.3/2.7 MB ? eta -:--:--\n",
      "   --- ------------------------------------ 0.3/2.7 MB ? eta -:--:--\n",
      "   --- ------------------------------------ 0.3/2.7 MB ? eta -:--:--\n",
      "   ------- -------------------------------- 0.5/2.7 MB 161.3 kB/s eta 0:00:14\n",
      "   ------- -------------------------------- 0.5/2.7 MB 161.3 kB/s eta 0:00:14\n",
      "   ------- -------------------------------- 0.5/2.7 MB 161.3 kB/s eta 0:00:14\n",
      "   ------- -------------------------------- 0.5/2.7 MB 161.3 kB/s eta 0:00:14\n",
      "   ------- -------------------------------- 0.5/2.7 MB 161.3 kB/s eta 0:00:14\n",
      "   ------- -------------------------------- 0.5/2.7 MB 161.3 kB/s eta 0:00:14\n",
      "   ------- -------------------------------- 0.5/2.7 MB 161.3 kB/s eta 0:00:14\n",
      "   ------- -------------------------------- 0.5/2.7 MB 161.3 kB/s eta 0:00:14\n",
      "   ------- -------------------------------- 0.5/2.7 MB 161.3 kB/s eta 0:00:14\n",
      "   ----------- ---------------------------- 0.8/2.7 MB 151.8 kB/s eta 0:00:13\n",
      "   ----------- ---------------------------- 0.8/2.7 MB 151.8 kB/s eta 0:00:13\n",
      "   ----------- ---------------------------- 0.8/2.7 MB 151.8 kB/s eta 0:00:13\n",
      "   --------------- ------------------------ 1.0/2.7 MB 189.2 kB/s eta 0:00:09\n",
      "   --------------- ------------------------ 1.0/2.7 MB 189.2 kB/s eta 0:00:09\n",
      "   ----------------------- ---------------- 1.6/2.7 MB 279.6 kB/s eta 0:00:04\n",
      "   ----------------------- ---------------- 1.6/2.7 MB 279.6 kB/s eta 0:00:04\n",
      "   ----------------------- ---------------- 1.6/2.7 MB 279.6 kB/s eta 0:00:04\n",
      "   --------------------------- ------------ 1.8/2.7 MB 305.0 kB/s eta 0:00:03\n",
      "   ------------------------------- -------- 2.1/2.7 MB 342.4 kB/s eta 0:00:02\n",
      "   ------------------------------- -------- 2.1/2.7 MB 342.4 kB/s eta 0:00:02\n",
      "   ----------------------------------- ---- 2.4/2.7 MB 360.8 kB/s eta 0:00:01\n",
      "   ----------------------------------- ---- 2.4/2.7 MB 360.8 kB/s eta 0:00:01\n",
      "   ---------------------------------------- 2.7/2.7 MB 381.4 kB/s eta 0:00:00\n",
      "Installing collected packages: Pillow\n",
      "Successfully installed Pillow-11.2.1\n"
     ]
    }
   ],
   "source": [
    "pip install Pillow\n",
    "pip install Pillow pytesseract\n"
   ]
  },
  {
   "cell_type": "code",
   "execution_count": 1,
   "id": "af8b8e6f",
   "metadata": {},
   "outputs": [
    {
     "name": "stdout",
     "output_type": "stream",
     "text": [
      "Requirement already satisfied: Pillow in c:\\users\\admin\\.codegeex\\mamba\\envs\\codegeex-agent\\lib\\site-packages (11.2.1)Note: you may need to restart the kernel to use updated packages.\n",
      "\n",
      "Collecting pytesseract\n",
      "  Downloading pytesseract-0.3.13-py3-none-any.whl.metadata (11 kB)\n",
      "Requirement already satisfied: packaging>=21.3 in c:\\users\\admin\\.codegeex\\mamba\\envs\\codegeex-agent\\lib\\site-packages (from pytesseract) (25.0)\n",
      "Downloading pytesseract-0.3.13-py3-none-any.whl (14 kB)\n",
      "Installing collected packages: pytesseract\n",
      "Successfully installed pytesseract-0.3.13\n"
     ]
    },
    {
     "name": "stderr",
     "output_type": "stream",
     "text": [
      "  WARNING: The script pytesseract.exe is installed in 'c:\\Users\\admin\\.codegeex\\mamba\\envs\\codegeex-agent\\Scripts' which is not on PATH.\n",
      "  Consider adding this directory to PATH or, if you prefer to suppress this warning, use --no-warn-script-location.\n"
     ]
    }
   ],
   "source": [
    "pip install Pillow pytesseract"
   ]
  },
  {
   "cell_type": "code",
   "execution_count": 2,
   "id": "5748b049",
   "metadata": {},
   "outputs": [
    {
     "ename": "FileNotFoundError",
     "evalue": "[Errno 2] No such file or directory: 'halaman_buku.jpg'",
     "output_type": "error",
     "traceback": [
      "\u001b[1;31m---------------------------------------------------------------------------\u001b[0m",
      "\u001b[1;31mFileNotFoundError\u001b[0m                         Traceback (most recent call last)",
      "Cell \u001b[1;32mIn[2], line 4\u001b[0m\n\u001b[0;32m      1\u001b[0m \u001b[38;5;28;01mfrom\u001b[39;00m\u001b[38;5;250m \u001b[39m\u001b[38;5;21;01mPIL\u001b[39;00m\u001b[38;5;250m \u001b[39m\u001b[38;5;28;01mimport\u001b[39;00m Image\n\u001b[0;32m      2\u001b[0m \u001b[38;5;28;01mimport\u001b[39;00m\u001b[38;5;250m \u001b[39m\u001b[38;5;21;01mpytesseract\u001b[39;00m\n\u001b[1;32m----> 4\u001b[0m image \u001b[38;5;241m=\u001b[39m \u001b[43mImage\u001b[49m\u001b[38;5;241;43m.\u001b[39;49m\u001b[43mopen\u001b[49m\u001b[43m(\u001b[49m\u001b[38;5;124;43m'\u001b[39;49m\u001b[38;5;124;43mhalaman_buku.jpg\u001b[39;49m\u001b[38;5;124;43m'\u001b[39;49m\u001b[43m)\u001b[49m\n\u001b[0;32m      5\u001b[0m teks \u001b[38;5;241m=\u001b[39m pytesseract\u001b[38;5;241m.\u001b[39mimage_to_string(image, lang\u001b[38;5;241m=\u001b[39m\u001b[38;5;124m'\u001b[39m\u001b[38;5;124mind\u001b[39m\u001b[38;5;124m'\u001b[39m)\n",
      "File \u001b[1;32mc:\\Users\\admin\\.codegeex\\mamba\\envs\\codegeex-agent\\Lib\\site-packages\\PIL\\Image.py:3505\u001b[0m, in \u001b[0;36mopen\u001b[1;34m(fp, mode, formats)\u001b[0m\n\u001b[0;32m   3502\u001b[0m     filename \u001b[38;5;241m=\u001b[39m os\u001b[38;5;241m.\u001b[39mfspath(fp)\n\u001b[0;32m   3504\u001b[0m \u001b[38;5;28;01mif\u001b[39;00m filename:\n\u001b[1;32m-> 3505\u001b[0m     fp \u001b[38;5;241m=\u001b[39m \u001b[43mbuiltins\u001b[49m\u001b[38;5;241;43m.\u001b[39;49m\u001b[43mopen\u001b[49m\u001b[43m(\u001b[49m\u001b[43mfilename\u001b[49m\u001b[43m,\u001b[49m\u001b[43m \u001b[49m\u001b[38;5;124;43m\"\u001b[39;49m\u001b[38;5;124;43mrb\u001b[39;49m\u001b[38;5;124;43m\"\u001b[39;49m\u001b[43m)\u001b[49m\n\u001b[0;32m   3506\u001b[0m     exclusive_fp \u001b[38;5;241m=\u001b[39m \u001b[38;5;28;01mTrue\u001b[39;00m\n\u001b[0;32m   3507\u001b[0m \u001b[38;5;28;01melse\u001b[39;00m:\n",
      "\u001b[1;31mFileNotFoundError\u001b[0m: [Errno 2] No such file or directory: 'halaman_buku.jpg'"
     ]
    }
   ],
   "source": [
    "from PIL import Image\n",
    "import pytesseract\n",
    "\n",
    "image = Image.open('halaman_buku.jpg')\n",
    "teks = pytesseract.image_to_string(image, lang='ind')\n"
   ]
  },
  {
   "cell_type": "code",
   "execution_count": null,
   "id": "a483a65b",
   "metadata": {},
   "outputs": [],
   "source": []
  }
 ],
 "metadata": {
  "kernelspec": {
   "display_name": "codegeex-agent",
   "language": "python",
   "name": "python3"
  },
  "language_info": {
   "codemirror_mode": {
    "name": "ipython",
    "version": 3
   },
   "file_extension": ".py",
   "mimetype": "text/x-python",
   "name": "python",
   "nbconvert_exporter": "python",
   "pygments_lexer": "ipython3",
   "version": "3.11.0"
  }
 },
 "nbformat": 4,
 "nbformat_minor": 5
}
